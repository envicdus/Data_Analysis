{
 "cells": [
  {
   "cell_type": "code",
   "execution_count": 1,
   "metadata": {},
   "outputs": [],
   "source": [
    "import pandas as pd\n",
    "import numpy as np\n",
    "from scipy.stats import mode"
   ]
  },
  {
   "cell_type": "code",
   "execution_count": 2,
   "metadata": {},
   "outputs": [],
   "source": [
    "# Load dataset\n",
    "file_path = \"../Interim/cleaned_food_prices.csv\"\n",
    "df = pd.read_csv(file_path)"
   ]
  },
  {
   "cell_type": "code",
   "execution_count": 3,
   "metadata": {},
   "outputs": [
    {
     "name": "stdout",
     "output_type": "stream",
     "text": [
      "       country                            Region Province  City        lat  \\\n",
      "0  Philippines  Cordillera Administrative region     Abra  Abra  17.600651   \n",
      "1  Philippines  Cordillera Administrative region     Abra  Abra  17.600651   \n",
      "2  Philippines  Cordillera Administrative region     Abra  Abra  17.600651   \n",
      "3  Philippines  Cordillera Administrative region     Abra  Abra  17.600651   \n",
      "4  Philippines  Cordillera Administrative region     Abra  Abra  17.600651   \n",
      "\n",
      "          lon        Date  year  month  beans  ...  l_tomatoes  c_tomatoes  \\\n",
      "0  120.619362  2007-01-01  2007      1    NaN  ...       26.03       27.84   \n",
      "1  120.619362  2007-02-01  2007      2    NaN  ...       26.31       26.82   \n",
      "2  120.619362  2007-03-01  2007      3    NaN  ...       24.95       26.21   \n",
      "3  120.619362  2007-04-01  2007      4    NaN  ...       24.93       26.74   \n",
      "4  120.619362  2007-05-01  2007      5    NaN  ...       26.30       27.19   \n",
      "\n",
      "   inflation_tomatoes  trust_tomatoes  o_food_price_index  h_food_price_index  \\\n",
      "0                 NaN             8.0                0.68                0.69   \n",
      "1                 NaN             8.0                0.68                0.69   \n",
      "2                 NaN             8.0                0.66                0.67   \n",
      "3                 NaN             8.0                0.66                0.67   \n",
      "4                 NaN             8.0                0.67                0.68   \n",
      "\n",
      "   l_food_price_index  c_food_price_index  inflation_food_price_index  \\\n",
      "0                0.67                0.68                         NaN   \n",
      "1                0.67                0.67                         NaN   \n",
      "2                0.65                0.66                         NaN   \n",
      "3                0.65                0.66                         NaN   \n",
      "4                0.66                0.67                         NaN   \n",
      "\n",
      "   trust_food_price_index  \n",
      "0                     9.4  \n",
      "1                     9.4  \n",
      "2                     9.4  \n",
      "3                     9.4  \n",
      "4                     9.4  \n",
      "\n",
      "[5 rows x 99 columns]\n"
     ]
    }
   ],
   "source": [
    "# View the first few rows of the dataset\n",
    "print(df.head())"
   ]
  },
  {
   "cell_type": "code",
   "execution_count": 4,
   "metadata": {},
   "outputs": [
    {
     "name": "stdout",
     "output_type": "stream",
     "text": [
      "<class 'pandas.core.frame.DataFrame'>\n",
      "RangeIndex: 23653 entries, 0 to 23652\n",
      "Data columns (total 99 columns):\n",
      " #   Column                        Non-Null Count  Dtype  \n",
      "---  ------                        --------------  -----  \n",
      " 0   country                       23653 non-null  object \n",
      " 1   Region                        23653 non-null  object \n",
      " 2   Province                      23653 non-null  object \n",
      " 3   City                          23653 non-null  object \n",
      " 4   lat                           23436 non-null  float64\n",
      " 5   lon                           23436 non-null  float64\n",
      " 6   Date                          23653 non-null  object \n",
      " 7   year                          23653 non-null  int64  \n",
      " 8   month                         23653 non-null  int64  \n",
      " 9   beans                         2384 non-null   float64\n",
      " 10  cabbage                       3696 non-null   float64\n",
      " 11  carrots                       3747 non-null   float64\n",
      " 12  eggs                          5391 non-null   float64\n",
      " 13  garlic                        3020 non-null   float64\n",
      " 14  meat_beef_chops               2702 non-null   float64\n",
      " 15  meat_chicken_whole            2601 non-null   float64\n",
      " 16  meat_pork                     2944 non-null   float64\n",
      " 17  onions                        5548 non-null   float64\n",
      " 18  potatoes                      3113 non-null   float64\n",
      " 19  rice                          6554 non-null   float64\n",
      " 20  tomatoes                      2399 non-null   float64\n",
      " 21  o_beans                       23653 non-null  float64\n",
      " 22  h_beans                       23653 non-null  float64\n",
      " 23  l_beans                       23653 non-null  float64\n",
      " 24  c_beans                       23653 non-null  float64\n",
      " 25  inflation_beans               22345 non-null  float64\n",
      " 26  trust_beans                   23653 non-null  float64\n",
      " 27  o_cabbage                     23653 non-null  float64\n",
      " 28  h_cabbage                     23653 non-null  float64\n",
      " 29  l_cabbage                     23653 non-null  float64\n",
      " 30  c_cabbage                     23653 non-null  float64\n",
      " 31  inflation_cabbage             22345 non-null  float64\n",
      " 32  trust_cabbage                 23653 non-null  float64\n",
      " 33  o_carrots                     23653 non-null  float64\n",
      " 34  h_carrots                     23653 non-null  float64\n",
      " 35  l_carrots                     23653 non-null  float64\n",
      " 36  c_carrots                     23653 non-null  float64\n",
      " 37  inflation_carrots             22345 non-null  float64\n",
      " 38  trust_carrots                 23653 non-null  float64\n",
      " 39  o_eggs                        23653 non-null  float64\n",
      " 40  h_eggs                        23653 non-null  float64\n",
      " 41  l_eggs                        23653 non-null  float64\n",
      " 42  c_eggs                        23653 non-null  float64\n",
      " 43  inflation_eggs                22345 non-null  float64\n",
      " 44  trust_eggs                    23653 non-null  float64\n",
      " 45  o_garlic                      23653 non-null  float64\n",
      " 46  h_garlic                      23653 non-null  float64\n",
      " 47  l_garlic                      23653 non-null  float64\n",
      " 48  c_garlic                      23653 non-null  float64\n",
      " 49  inflation_garlic              22345 non-null  float64\n",
      " 50  trust_garlic                  23653 non-null  float64\n",
      " 51  o_meat_beef_chops             23653 non-null  float64\n",
      " 52  h_meat_beef_chops             23653 non-null  float64\n",
      " 53  l_meat_beef_chops             23653 non-null  float64\n",
      " 54  c_meat_beef_chops             23653 non-null  float64\n",
      " 55  inflation_meat_beef_chops     22345 non-null  float64\n",
      " 56  trust_meat_beef_chops         23653 non-null  float64\n",
      " 57  o_meat_chicken_whole          23653 non-null  float64\n",
      " 58  h_meat_chicken_whole          23653 non-null  float64\n",
      " 59  l_meat_chicken_whole          23653 non-null  float64\n",
      " 60  c_meat_chicken_whole          23653 non-null  float64\n",
      " 61  inflation_meat_chicken_whole  22345 non-null  float64\n",
      " 62  trust_meat_chicken_whole      23653 non-null  float64\n",
      " 63  o_meat_pork                   23653 non-null  float64\n",
      " 64  h_meat_pork                   23653 non-null  float64\n",
      " 65  l_meat_pork                   23653 non-null  float64\n",
      " 66  c_meat_pork                   23653 non-null  float64\n",
      " 67  inflation_meat_pork           22345 non-null  float64\n",
      " 68  trust_meat_pork               23653 non-null  float64\n",
      " 69  o_onions                      23653 non-null  float64\n",
      " 70  h_onions                      23653 non-null  float64\n",
      " 71  l_onions                      23653 non-null  float64\n",
      " 72  c_onions                      23653 non-null  float64\n",
      " 73  inflation_onions              22345 non-null  float64\n",
      " 74  trust_onions                  23653 non-null  float64\n",
      " 75  o_potatoes                    23653 non-null  float64\n",
      " 76  h_potatoes                    23653 non-null  float64\n",
      " 77  l_potatoes                    23653 non-null  float64\n",
      " 78  c_potatoes                    23653 non-null  float64\n",
      " 79  inflation_potatoes            22345 non-null  float64\n",
      " 80  trust_potatoes                23653 non-null  float64\n",
      " 81  o_rice                        23653 non-null  float64\n",
      " 82  h_rice                        23653 non-null  float64\n",
      " 83  l_rice                        23653 non-null  float64\n",
      " 84  c_rice                        23653 non-null  float64\n",
      " 85  inflation_rice                22345 non-null  float64\n",
      " 86  trust_rice                    23653 non-null  float64\n",
      " 87  o_tomatoes                    23653 non-null  float64\n",
      " 88  h_tomatoes                    23653 non-null  float64\n",
      " 89  l_tomatoes                    23653 non-null  float64\n",
      " 90  c_tomatoes                    23653 non-null  float64\n",
      " 91  inflation_tomatoes            22345 non-null  float64\n",
      " 92  trust_tomatoes                23653 non-null  float64\n",
      " 93  o_food_price_index            23653 non-null  float64\n",
      " 94  h_food_price_index            23653 non-null  float64\n",
      " 95  l_food_price_index            23653 non-null  float64\n",
      " 96  c_food_price_index            23653 non-null  float64\n",
      " 97  inflation_food_price_index    22345 non-null  float64\n",
      " 98  trust_food_price_index        23653 non-null  float64\n",
      "dtypes: float64(92), int64(2), object(5)\n",
      "memory usage: 17.9+ MB\n",
      "None\n"
     ]
    }
   ],
   "source": [
    "# Check the structure and datatypes\n",
    "print(df.info())"
   ]
  },
  {
   "cell_type": "code",
   "execution_count": 5,
   "metadata": {},
   "outputs": [
    {
     "name": "stdout",
     "output_type": "stream",
     "text": [
      "                lat           lon          year         month        beans  \\\n",
      "count  23436.000000  23436.000000  23653.000000  23653.000000  2384.000000   \n",
      "mean      11.709358    122.876852   2015.543779      6.474654    98.049673   \n",
      "std        3.640368      1.949177      5.216106      3.464248    15.231500   \n",
      "min        5.029099    118.735278   2007.000000      1.000000    55.490000   \n",
      "25%        8.481003    121.086142   2011.000000      3.000000    87.162500   \n",
      "50%       11.570265    122.851105   2016.000000      6.000000    98.190000   \n",
      "75%       14.716339    124.667869   2020.000000      9.000000   107.500000   \n",
      "max       18.194082    126.207645   2025.000000     12.000000   229.540000   \n",
      "\n",
      "          cabbage      carrots         eggs       garlic  meat_beef_chops  \\\n",
      "count  3696.00000  3747.000000  5391.000000  3020.000000      2702.000000   \n",
      "mean     72.09049    91.267086     7.008577   169.917825       274.926121   \n",
      "std      32.25439    37.874833     1.511605    60.216075        70.702813   \n",
      "min       7.52000    14.200000     3.990000    80.910000       125.330000   \n",
      "25%      46.88000    62.395000     6.000000   131.250000       208.497500   \n",
      "50%      69.50000    85.670000     7.000000   150.600000       281.250000   \n",
      "75%      91.67500   115.660000     8.130000   187.805000       333.750000   \n",
      "max     250.00000   236.250000    25.000000   594.440000       430.000000   \n",
      "\n",
      "       ...    l_tomatoes    c_tomatoes  inflation_tomatoes  trust_tomatoes  \\\n",
      "count  ...  23653.000000  23653.000000        22345.000000    23653.000000   \n",
      "mean   ...     44.823604     47.712646            7.055514        8.519456   \n",
      "std    ...     17.002781     19.381362           22.006638        0.824231   \n",
      "min    ...      7.050000      7.830000          -75.960000        8.000000   \n",
      "25%    ...     34.000000     35.440000           -3.250000        8.000000   \n",
      "50%    ...     39.720000     41.240000            2.930000        8.000000   \n",
      "75%    ...     50.320000     53.540000           14.070000        9.100000   \n",
      "max    ...    161.290000    209.830000          331.740000       10.000000   \n",
      "\n",
      "       o_food_price_index  h_food_price_index  l_food_price_index  \\\n",
      "count        23653.000000        23653.000000        23653.000000   \n",
      "mean             0.976953            0.994561            0.959457   \n",
      "std              0.221319            0.228211            0.215228   \n",
      "min              0.640000            0.650000            0.610000   \n",
      "25%              0.820000            0.830000            0.800000   \n",
      "50%              0.910000            0.920000            0.890000   \n",
      "75%              1.070000            1.090000            1.050000   \n",
      "max              1.810000            1.850000            1.740000   \n",
      "\n",
      "       c_food_price_index  inflation_food_price_index  trust_food_price_index  \n",
      "count        23653.000000                22345.000000            23653.000000  \n",
      "mean             0.977137                    4.042098                9.521046  \n",
      "std              0.223137                    6.929498                0.183176  \n",
      "min              0.640000                  -17.670000                9.400000  \n",
      "25%              0.810000                   -0.720000                9.400000  \n",
      "50%              0.900000                    3.180000                9.400000  \n",
      "75%              1.070000                    7.570000                9.700000  \n",
      "max              1.810000                   44.990000                9.900000  \n",
      "\n",
      "[8 rows x 94 columns]\n"
     ]
    }
   ],
   "source": [
    "# Get summary statistics of numerical columns\n",
    "print(df.describe())"
   ]
  },
  {
   "cell_type": "code",
   "execution_count": 6,
   "metadata": {},
   "outputs": [],
   "source": [
    "#dropping columns related to food price index\n",
    "df_nofpi = df.drop(columns=['o_food_price_index', 'h_food_price_index', 'l_food_price_index', 'c_food_price_index', 'inflation_food_price_index', 'trust_food_price_index'])"
   ]
  },
  {
   "cell_type": "code",
   "execution_count": 7,
   "metadata": {},
   "outputs": [],
   "source": [
    "# Convert 'Date' column to datetime format\n",
    "df_nofpi['Date'] = pd.to_datetime(df_nofpi['Date'])"
   ]
  },
  {
   "cell_type": "code",
   "execution_count": 8,
   "metadata": {},
   "outputs": [
    {
     "name": "stdout",
     "output_type": "stream",
     "text": [
      "2007-01-01 00:00:00 2025-01-01 00:00:00\n"
     ]
    }
   ],
   "source": [
    "# Check the unique values of the 'Date' column (like ranges)\n",
    "print(df_nofpi['Date'].min(), df_nofpi['Date'].max())"
   ]
  },
  {
   "cell_type": "code",
   "execution_count": 9,
   "metadata": {},
   "outputs": [],
   "source": [
    "#dropping columns related to inflation\n",
    "df_noinf = df_nofpi.drop(columns=['inflation_beans','inflation_cabbage', 'inflation_carrots', 'inflation_eggs', 'inflation_garlic', 'inflation_meat_beef_chops', 'inflation_meat_chicken_whole', 'inflation_meat_pork', 'inflation_onions', 'inflation_potatoes', 'inflation_rice', 'inflation_tomatoes'])"
   ]
  },
  {
   "cell_type": "code",
   "execution_count": 10,
   "metadata": {},
   "outputs": [],
   "source": [
    "#dropping columns related to trust scores\n",
    "df_cleaned = df_noinf.drop(columns=['trust_beans','trust_cabbage', 'trust_carrots', 'trust_eggs', 'trust_garlic', 'trust_meat_beef_chops', 'trust_meat_chicken_whole', 'trust_meat_pork', 'trust_onions', 'trust_potatoes', 'trust_rice', 'trust_tomatoes'])"
   ]
  },
  {
   "cell_type": "code",
   "execution_count": 11,
   "metadata": {},
   "outputs": [
    {
     "name": "stdout",
     "output_type": "stream",
     "text": [
      "       country                            Region Province  City        lat  \\\n",
      "0  Philippines  Cordillera Administrative region     Abra  Abra  17.600651   \n",
      "1  Philippines  Cordillera Administrative region     Abra  Abra  17.600651   \n",
      "2  Philippines  Cordillera Administrative region     Abra  Abra  17.600651   \n",
      "3  Philippines  Cordillera Administrative region     Abra  Abra  17.600651   \n",
      "4  Philippines  Cordillera Administrative region     Abra  Abra  17.600651   \n",
      "\n",
      "          lon       Date  year  month  beans  ...  l_potatoes  c_potatoes  \\\n",
      "0  120.619362 2007-01-01  2007      1    NaN  ...       34.28       35.26   \n",
      "1  120.619362 2007-02-01  2007      2    NaN  ...       34.21       34.21   \n",
      "2  120.619362 2007-03-01  2007      3    NaN  ...       33.13       33.83   \n",
      "3  120.619362 2007-04-01  2007      4    NaN  ...       33.09       33.85   \n",
      "4  120.619362 2007-05-01  2007      5    NaN  ...       33.44       34.56   \n",
      "\n",
      "   o_rice  h_rice  l_rice  c_rice  o_tomatoes  h_tomatoes  l_tomatoes  \\\n",
      "0   19.88   20.21   19.71   19.95       27.54       29.29       26.03   \n",
      "1   20.03   20.28   19.78   20.24       27.96       29.60       26.31   \n",
      "2   20.39   20.67   20.15   20.67       26.33       27.72       24.95   \n",
      "3   20.86   21.12   20.61   20.90       26.05       27.17       24.93   \n",
      "4   21.03   21.25   20.80   21.20       27.31       28.31       26.30   \n",
      "\n",
      "   c_tomatoes  \n",
      "0       27.84  \n",
      "1       26.82  \n",
      "2       26.21  \n",
      "3       26.74  \n",
      "4       27.19  \n",
      "\n",
      "[5 rows x 69 columns]\n"
     ]
    }
   ],
   "source": [
    "# View the dataset after dropping columns\n",
    "print(df_cleaned.head())"
   ]
  },
  {
   "cell_type": "code",
   "execution_count": 12,
   "metadata": {},
   "outputs": [],
   "source": [
    "#dropping uneeded columns\n",
    "df_unneeded = df_cleaned.drop(columns=['country', 'City', 'lat', 'lon'])\n",
    "\n",
    "# Reshaping from wide to long format (including year and month as part of the identifier)\n",
    "df_melted = df_unneeded.melt(id_vars=['Region', 'Province', 'Date', 'year', 'month'], var_name='Food_Items', value_name='Price')"
   ]
  },
  {
   "cell_type": "code",
   "execution_count": 13,
   "metadata": {},
   "outputs": [
    {
     "name": "stdout",
     "output_type": "stream",
     "text": [
      "                             Region Province       Date  year  month  \\\n",
      "0  Cordillera Administrative region     Abra 2007-01-01  2007      1   \n",
      "1  Cordillera Administrative region     Abra 2007-02-01  2007      2   \n",
      "2  Cordillera Administrative region     Abra 2007-03-01  2007      3   \n",
      "3  Cordillera Administrative region     Abra 2007-04-01  2007      4   \n",
      "4  Cordillera Administrative region     Abra 2007-05-01  2007      5   \n",
      "\n",
      "  Food_Items  Price  \n",
      "0      beans    NaN  \n",
      "1      beans    NaN  \n",
      "2      beans    NaN  \n",
      "3      beans    NaN  \n",
      "4      beans    NaN  \n"
     ]
    }
   ],
   "source": [
    "# View the dataset after reshaping\n",
    "print(df_melted.head())"
   ]
  },
  {
   "cell_type": "markdown",
   "metadata": {},
   "source": [
    "## Start of analysis"
   ]
  },
  {
   "cell_type": "markdown",
   "metadata": {},
   "source": [
    "### 1.Exploratory Data Analysis"
   ]
  },
  {
   "cell_type": "code",
   "execution_count": 14,
   "metadata": {},
   "outputs": [
    {
     "name": "stdout",
     "output_type": "stream",
     "text": [
      "['Cordillera Administrative region' 'Region XIII' 'Region VI' 'Region V'\n",
      " 'Region III' 'Autonomous region in Muslim Mindanao' 'Region IV-A'\n",
      " 'Region VIII' 'Region VII' 'Region X' 'Region II' 'Region IV-B'\n",
      " 'Region XII' 'Region XI' 'Region I' 'National Capital region' 'Region IX'\n",
      " 'Market Average']\n",
      "['Abra' 'Agusan del Norte' 'Agusan del Sur' 'Aklan' 'Albay' 'Antique'\n",
      " 'Apayao' 'Aurora' 'Benguet' 'Basilan' 'Bataan' 'Batangas' 'Biliran'\n",
      " 'Bohol' 'Bukidnon' 'Bulacan' 'Nueva Ecija' 'Cagayan' 'Misamis Oriental'\n",
      " 'Oriental Mindoro' 'Camarines Norte' 'Masbate' 'Camiguin' 'Capiz'\n",
      " 'Catanduanes' 'Southern Leyte' 'Cavite' 'Cebu' 'North Cotabato'\n",
      " 'Maguindanao' 'Davao del Sur' 'Compostela Valley' 'Davao del Norte'\n",
      " 'Davao Oriental' 'Dinagat Islands' 'Eastern Samar' 'Guimaras' 'Ifugao'\n",
      " 'Ilocos Norte' 'Ilocos Sur' 'Iloilo' 'Isabela' 'Kalinga' 'South Cotabato'\n",
      " 'La Union' 'Laguna' 'Lanao del Norte' 'Lanao del Sur' 'Leyte'\n",
      " 'Pangasinan' 'Marinduque' 'Metropolitan Manila' 'Misamis Occidental'\n",
      " 'Mountain Province' 'Camarines Sur' 'Negros Occidental' 'Negros Oriental'\n",
      " 'Northern Samar' 'Nueva Vizcaya' 'Occidental Mindoro' 'Palawan' 'Quezon'\n",
      " 'Quirino' 'Rizal' 'Romblon' 'Samar' 'Sarangani' 'Siquijor' 'Sorsogon'\n",
      " 'Sultan Kudarat' 'Sulu' 'Surigao del Norte' 'Surigao del Sur' 'Tarlac'\n",
      " 'Tawi-Tawi' 'Zambales' 'Zamboanga del Sur' 'Zamboanga del Norte'\n",
      " 'Zamboanga Sibugay' 'Market Average']\n",
      "['beans' 'cabbage' 'carrots' 'eggs' 'garlic' 'meat_beef_chops'\n",
      " 'meat_chicken_whole' 'meat_pork' 'onions' 'potatoes' 'rice' 'tomatoes'\n",
      " 'o_beans' 'h_beans' 'l_beans' 'c_beans' 'o_cabbage' 'h_cabbage'\n",
      " 'l_cabbage' 'c_cabbage' 'o_carrots' 'h_carrots' 'l_carrots' 'c_carrots'\n",
      " 'o_eggs' 'h_eggs' 'l_eggs' 'c_eggs' 'o_garlic' 'h_garlic' 'l_garlic'\n",
      " 'c_garlic' 'o_meat_beef_chops' 'h_meat_beef_chops' 'l_meat_beef_chops'\n",
      " 'c_meat_beef_chops' 'o_meat_chicken_whole' 'h_meat_chicken_whole'\n",
      " 'l_meat_chicken_whole' 'c_meat_chicken_whole' 'o_meat_pork' 'h_meat_pork'\n",
      " 'l_meat_pork' 'c_meat_pork' 'o_onions' 'h_onions' 'l_onions' 'c_onions'\n",
      " 'o_potatoes' 'h_potatoes' 'l_potatoes' 'c_potatoes' 'o_rice' 'h_rice'\n",
      " 'l_rice' 'c_rice' 'o_tomatoes' 'h_tomatoes' 'l_tomatoes' 'c_tomatoes']\n"
     ]
    }
   ],
   "source": [
    "print(df_melted['Region'].unique())\n",
    "print(df_melted['Province'].unique())\n",
    "print(df_melted['Food_Items'].unique())"
   ]
  },
  {
   "cell_type": "markdown",
   "metadata": {},
   "source": [
    "#### Measures of Central Tendency"
   ]
  },
  {
   "cell_type": "code",
   "execution_count": 15,
   "metadata": {},
   "outputs": [
    {
     "name": "stdout",
     "output_type": "stream",
     "text": [
      "<pandas.core.groupby.generic.DataFrameGroupBy object at 0x000001CD933A4BF0>\n"
     ]
    }
   ],
   "source": [
    "grouped = df_melted.groupby(['Region', 'Province', 'Food_Items', 'year'])\n",
    "print(grouped)"
   ]
  },
  {
   "cell_type": "markdown",
   "metadata": {},
   "source": [
    "##### mean and median"
   ]
  },
  {
   "cell_type": "code",
   "execution_count": 16,
   "metadata": {},
   "outputs": [
    {
     "name": "stdout",
     "output_type": "stream",
     "text": [
      "                                     Region         Province Food_Items  year  \\\n",
      "0      Autonomous region in Muslim Mindanao          Basilan      beans  2007   \n",
      "1      Autonomous region in Muslim Mindanao          Basilan      beans  2008   \n",
      "2      Autonomous region in Muslim Mindanao          Basilan      beans  2009   \n",
      "3      Autonomous region in Muslim Mindanao          Basilan      beans  2010   \n",
      "4      Autonomous region in Muslim Mindanao          Basilan      beans  2011   \n",
      "...                                     ...              ...        ...   ...   \n",
      "91195                           Region XIII  Surigao del Sur   tomatoes  2021   \n",
      "91196                           Region XIII  Surigao del Sur   tomatoes  2022   \n",
      "91197                           Region XIII  Surigao del Sur   tomatoes  2023   \n",
      "91198                           Region XIII  Surigao del Sur   tomatoes  2024   \n",
      "91199                           Region XIII  Surigao del Sur   tomatoes  2025   \n",
      "\n",
      "          mean  median  \n",
      "0          NaN     NaN  \n",
      "1          NaN     NaN  \n",
      "2          NaN     NaN  \n",
      "3          NaN     NaN  \n",
      "4          NaN     NaN  \n",
      "...        ...     ...  \n",
      "91195  55.4925  55.545  \n",
      "91196  64.5000  60.000  \n",
      "91197  73.5000  77.500  \n",
      "91198  61.7200  61.250  \n",
      "91199      NaN     NaN  \n",
      "\n",
      "[91200 rows x 6 columns]\n"
     ]
    }
   ],
   "source": [
    "central_tendency = grouped['Price'].agg(['mean', 'median']).reset_index()\n",
    "print(central_tendency)"
   ]
  },
  {
   "cell_type": "markdown",
   "metadata": {},
   "source": [
    "##### mode"
   ]
  },
  {
   "cell_type": "code",
   "execution_count": 17,
   "metadata": {},
   "outputs": [],
   "source": [
    "#calculate mode\n",
    "def calculate_mode(series):\n",
    "    # Drop NaN values\n",
    "    valid_values = series.dropna()\n",
    "    \n",
    "    if valid_values.empty:  # If no valid values, return NaN\n",
    "        return np.nan\n",
    "    \n",
    "    # Compute the mode\n",
    "    result = mode(valid_values)\n",
    "    \n",
    "    # Handle cases where result.mode might be scalar\n",
    "    if isinstance(result.mode, np.ndarray) and len(result.mode) > 0:\n",
    "        return result.mode[0]\n",
    "    elif np.isscalar(result.mode):  # For scalar mode\n",
    "        return result.mode\n",
    "    else:\n",
    "        return np.nan\n",
    "\n",
    "central_tendency['Mode'] = grouped['Price'].transform(calculate_mode)\n"
   ]
  },
  {
   "cell_type": "code",
   "execution_count": 18,
   "metadata": {},
   "outputs": [
    {
     "name": "stdout",
     "output_type": "stream",
     "text": [
      "                                     Region         Province Food_Items  year  \\\n",
      "0      Autonomous region in Muslim Mindanao          Basilan      beans  2007   \n",
      "1      Autonomous region in Muslim Mindanao          Basilan      beans  2008   \n",
      "2      Autonomous region in Muslim Mindanao          Basilan      beans  2009   \n",
      "3      Autonomous region in Muslim Mindanao          Basilan      beans  2010   \n",
      "4      Autonomous region in Muslim Mindanao          Basilan      beans  2011   \n",
      "...                                     ...              ...        ...   ...   \n",
      "91195                           Region XIII  Surigao del Sur   tomatoes  2021   \n",
      "91196                           Region XIII  Surigao del Sur   tomatoes  2022   \n",
      "91197                           Region XIII  Surigao del Sur   tomatoes  2023   \n",
      "91198                           Region XIII  Surigao del Sur   tomatoes  2024   \n",
      "91199                           Region XIII  Surigao del Sur   tomatoes  2025   \n",
      "\n",
      "          mean  median  Mode  \n",
      "0          NaN     NaN   NaN  \n",
      "1          NaN     NaN   NaN  \n",
      "2          NaN     NaN   NaN  \n",
      "3          NaN     NaN   NaN  \n",
      "4          NaN     NaN   NaN  \n",
      "...        ...     ...   ...  \n",
      "91195  55.4925  55.545   NaN  \n",
      "91196  64.5000  60.000   NaN  \n",
      "91197  73.5000  77.500   NaN  \n",
      "91198  61.7200  61.250   NaN  \n",
      "91199      NaN     NaN   NaN  \n",
      "\n",
      "[91200 rows x 7 columns]\n"
     ]
    }
   ],
   "source": [
    "print(central_tendency)"
   ]
  },
  {
   "cell_type": "markdown",
   "metadata": {},
   "source": [
    "#### Measures of Dispersion"
   ]
  },
  {
   "cell_type": "markdown",
   "metadata": {},
   "source": [
    "##### Range"
   ]
  },
  {
   "cell_type": "code",
   "execution_count": 19,
   "metadata": {},
   "outputs": [],
   "source": [
    "#dropping uneeded columns\n",
    "df_unneeded = df_cleaned.drop(columns=['country', 'City', 'lat', 'lon', 'Region', 'Province', 'Date', 'month'])\n",
    "\n",
    "# Reshaping from wide to long format (including year and month as part of the identifier)\n",
    "df_melted = df_unneeded.melt(id_vars=['year'], var_name='Food_Items', value_name='Price')\n",
    "\n",
    "grouped_range = df_melted.groupby(['Food_Items', 'year'])\n",
    "range_df = grouped_range['Price'].agg(lambda x: x.max() - x.min()).reset_index()\n",
    "range_df.rename(columns={'Price': 'Range'}, inplace=True)\n",
    "\n",
    "\n",
    "# Save cleaned data to a CSV file\n",
    "range_df.to_csv(\"range_results.csv\", index=False)"
   ]
  },
  {
   "cell_type": "markdown",
   "metadata": {},
   "source": [
    "##### Variance and Standard Deviation"
   ]
  },
  {
   "cell_type": "code",
   "execution_count": 20,
   "metadata": {},
   "outputs": [],
   "source": [
    "dispersion_df = grouped['Price'].agg(['var', 'std']).reset_index()\n",
    "dispersion_df.rename(columns={'var': 'Variance', 'std': 'Standard Deviation'}, inplace=True)"
   ]
  },
  {
   "cell_type": "markdown",
   "metadata": {},
   "source": [
    "##### Interquartile Range"
   ]
  },
  {
   "cell_type": "code",
   "execution_count": 21,
   "metadata": {},
   "outputs": [],
   "source": [
    "def compute_iqr(series):\n",
    "    q1 = series.quantile(0.25)\n",
    "    q3 = series.quantile(0.75)\n",
    "    return q3 - q1\n",
    "\n",
    "iqr_df = grouped['Price'].agg(compute_iqr).reset_index()\n",
    "iqr_df.rename(columns={'Price': 'IQR'}, inplace=True)"
   ]
  },
  {
   "cell_type": "markdown",
   "metadata": {},
   "source": [
    "##### combine all into one DataFrame"
   ]
  },
  {
   "cell_type": "code",
   "execution_count": 23,
   "metadata": {},
   "outputs": [],
   "source": [
    "dispersion_merge_df = pd.merge(central_tendency, dispersion_df, on=['Region', 'Province', 'Food_Items', 'year'])\n",
    "final_eda_df = pd.merge(dispersion_merge_df, iqr_df, on=['Region', 'Province', 'Food_Items', 'year'])"
   ]
  },
  {
   "cell_type": "code",
   "execution_count": 24,
   "metadata": {},
   "outputs": [
    {
     "name": "stdout",
     "output_type": "stream",
     "text": [
      "                                     Region         Province Food_Items  year  \\\n",
      "0      Autonomous region in Muslim Mindanao          Basilan      beans  2007   \n",
      "1      Autonomous region in Muslim Mindanao          Basilan      beans  2008   \n",
      "2      Autonomous region in Muslim Mindanao          Basilan      beans  2009   \n",
      "3      Autonomous region in Muslim Mindanao          Basilan      beans  2010   \n",
      "4      Autonomous region in Muslim Mindanao          Basilan      beans  2011   \n",
      "...                                     ...              ...        ...   ...   \n",
      "91195                           Region XIII  Surigao del Sur   tomatoes  2021   \n",
      "91196                           Region XIII  Surigao del Sur   tomatoes  2022   \n",
      "91197                           Region XIII  Surigao del Sur   tomatoes  2023   \n",
      "91198                           Region XIII  Surigao del Sur   tomatoes  2024   \n",
      "91199                           Region XIII  Surigao del Sur   tomatoes  2025   \n",
      "\n",
      "          mean  median  Mode    Variance  Standard Deviation      IQR  \n",
      "0          NaN     NaN   NaN         NaN                 NaN      NaN  \n",
      "1          NaN     NaN   NaN         NaN                 NaN      NaN  \n",
      "2          NaN     NaN   NaN         NaN                 NaN      NaN  \n",
      "3          NaN     NaN   NaN         NaN                 NaN      NaN  \n",
      "4          NaN     NaN   NaN         NaN                 NaN      NaN  \n",
      "...        ...     ...   ...         ...                 ...      ...  \n",
      "91195  55.4925  55.545   NaN  112.334092           10.598778  15.7225  \n",
      "91196  64.5000  60.000   NaN   73.906250            8.596874   8.7500  \n",
      "91197  73.5000  77.500   NaN  202.656250           14.235738  17.5000  \n",
      "91198  61.7200  61.250   NaN  183.125267           13.532378  20.1550  \n",
      "91199      NaN     NaN   NaN         NaN                 NaN      NaN  \n",
      "\n",
      "[91200 rows x 10 columns]\n"
     ]
    }
   ],
   "source": [
    "print(final_eda_df)"
   ]
  },
  {
   "cell_type": "code",
   "execution_count": 25,
   "metadata": {},
   "outputs": [],
   "source": [
    "# Save cleaned data to a CSV file\n",
    "final_eda_df.to_csv(\"eda_results.csv\", index=False)"
   ]
  }
 ],
 "metadata": {
  "kernelspec": {
   "display_name": ".venv",
   "language": "python",
   "name": "python3"
  },
  "language_info": {
   "codemirror_mode": {
    "name": "ipython",
    "version": 3
   },
   "file_extension": ".py",
   "mimetype": "text/x-python",
   "name": "python",
   "nbconvert_exporter": "python",
   "pygments_lexer": "ipython3",
   "version": "3.12.8"
  }
 },
 "nbformat": 4,
 "nbformat_minor": 2
}
