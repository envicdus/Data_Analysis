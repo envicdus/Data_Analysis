{
 "cells": [
  {
   "cell_type": "code",
   "execution_count": 1,
   "metadata": {},
   "outputs": [],
   "source": [
    "import pandas as pd\n",
    "import numpy as np\n",
    "from scipy.stats import shapiro\n",
    "from scipy.stats import kruskal\n",
    "import seaborn as sns\n",
    "import statsmodels.api as sm\n",
    "import matplotlib.pyplot as plt\n",
    "from scipy.stats import levene"
   ]
  },
  {
   "cell_type": "code",
   "execution_count": 2,
   "metadata": {},
   "outputs": [],
   "source": [
    "# Load dataset\n",
    "file_path = \"../Interim/cleaned_food_prices.csv\"\n",
    "df = pd.read_csv(file_path)"
   ]
  },
  {
   "cell_type": "markdown",
   "metadata": {},
   "source": [
    "### prepare data"
   ]
  },
  {
   "cell_type": "code",
   "execution_count": 3,
   "metadata": {},
   "outputs": [],
   "source": [
    "#dropping columns related to food price index\n",
    "df_nofpi = df.drop(columns=['country','Province', 'City', 'lat', 'lon', 'month', 'o_food_price_index', 'h_food_price_index', 'l_food_price_index', 'c_food_price_index', 'inflation_food_price_index', 'trust_food_price_index'])"
   ]
  },
  {
   "cell_type": "code",
   "execution_count": 4,
   "metadata": {},
   "outputs": [],
   "source": [
    "# Convert 'Date' column to datetime format\n",
    "df_nofpi['Date'] = pd.to_datetime(df_nofpi['Date'])"
   ]
  },
  {
   "cell_type": "code",
   "execution_count": 5,
   "metadata": {},
   "outputs": [],
   "source": [
    "#dropping columns related to inflation\n",
    "df_noinf = df_nofpi.drop(columns=['inflation_beans','inflation_cabbage', 'inflation_carrots', 'inflation_eggs', 'inflation_garlic', 'inflation_meat_beef_chops', 'inflation_meat_chicken_whole', 'inflation_meat_pork', 'inflation_onions', 'inflation_potatoes', 'inflation_rice', 'inflation_tomatoes'])"
   ]
  },
  {
   "cell_type": "code",
   "execution_count": 6,
   "metadata": {},
   "outputs": [],
   "source": [
    "#dropping columns related to trust scores\n",
    "df_cleaned = df_noinf.drop(columns=['trust_beans','trust_cabbage', 'trust_carrots', 'trust_eggs', 'trust_garlic', 'trust_meat_beef_chops', 'trust_meat_chicken_whole', 'trust_meat_pork', 'trust_onions', 'trust_potatoes', 'trust_rice', 'trust_tomatoes'])"
   ]
  },
  {
   "cell_type": "code",
   "execution_count": 7,
   "metadata": {},
   "outputs": [],
   "source": [
    "# Reshaping from wide to long format (including year and month as part of the identifier)\n",
    "df_melted = df_cleaned.melt(id_vars=['Region', 'Date', 'year'], var_name='Food_Items', value_name='Price')"
   ]
  },
  {
   "cell_type": "markdown",
   "metadata": {},
   "source": [
    "## Start Analysis"
   ]
  },
  {
   "cell_type": "markdown",
   "metadata": {},
   "source": [
    "### One-way ANOVA"
   ]
  },
  {
   "cell_type": "markdown",
   "metadata": {},
   "source": [
    "#### Check if one-way ANOVA is appropriate\n",
    "\n",
    "##### one-way ANOVA can only be used of normality and homogeneity of variances holds. If not, there are two test that can be used, namely, Welch's ANOVA and Kruskall-Wallis Test.\n",
    "##### * Welch's ANOVA can be used when your data is normally distributed, but the variances are unequal.\n",
    "##### * Kruskall-Wallis Test, on the other hand,  is used when your data is non-normal, ordinal, or you can’t assume equal variances.\n"
   ]
  },
  {
   "cell_type": "markdown",
   "metadata": {},
   "source": [
    "##### 1. Normality"
   ]
  },
  {
   "cell_type": "code",
   "execution_count": null,
   "metadata": {},
   "outputs": [],
   "source": [
    "# Grouping by region and year\n",
    "grouped = df_melted.groupby(['year', 'Food_Items'])['Price'].apply(list)\n",
    "\n",
    "# Shapiro-Wilk Test for each group\n",
    "alpha = 0.05  # Significance level\n",
    "for group, prices in grouped.items():\n",
    "    stat, p = shapiro(prices)\n",
    "    result = \"Pass\" if p > alpha else \"Shapiro-Wilk Test Failed\"\n",
    "    print(f'{group}: W-statistic={stat:.4f}, p-value={p:.4f}, Result={result}')"
   ]
  },
  {
   "cell_type": "markdown",
   "metadata": {},
   "source": [
    "##### only few passed, and most failed the test. But to be sure, Homogeneity of variances must be tested."
   ]
  },
  {
   "cell_type": "markdown",
   "metadata": {},
   "source": [
    "##### 2. Homogeneity of Variance"
   ]
  },
  {
   "cell_type": "code",
   "execution_count": null,
   "metadata": {},
   "outputs": [],
   "source": [
    "# Group the data by year and Food_Items\n",
    "grouped_data = df_melted.groupby(['year', 'Food_Items'])\n",
    "\n",
    "for (year, food_item), group in grouped_data:\n",
    "    # Extract prices for all regions within the group\n",
    "    region_prices = [group[group['Region'] == region]['Price'].values \n",
    "                     for region in group['Region'].unique()] \n",
    "    \n",
    "    if len(region_prices) > 1:  # Ensure there's more than one region\n",
    "        try:\n",
    "            stat, p = levene(*region_prices)\n",
    "            if p > 0.05:  # Levene's test not significant (p > 0.05)\n",
    "                print(f'{food_item} ({year}): Levene\\'s Test passed (p-value: {p:.4f})')\n",
    "            else:\n",
    "                print(f'{food_item} ({year}): Levene\\'s Test failed (p-value: {p:.4f})')\n",
    "        except ValueError:\n",
    "            print(f\"{food_item} ({year}): Levene's test failed. \"\n",
    "                  \"Possible issue with data (e.g., all values are the same).\")\n",
    "    else:\n",
    "        print(f'{food_item} ({year}): Only one region, cannot apply Levene\\'s test')"
   ]
  },
  {
   "cell_type": "markdown",
   "metadata": {},
   "source": [
    "using Levene's test, all regions per item and year failed to show homogeneity in their Variances"
   ]
  },
  {
   "cell_type": "markdown",
   "metadata": {},
   "source": [
    "This means the use of Kruskall-Wallis test for this dataset."
   ]
  },
  {
   "cell_type": "code",
   "execution_count": 14,
   "metadata": {},
   "outputs": [],
   "source": [
    "# Group the data by 'year', 'Food_Items', and 'Region' and collect prices into lists\n",
    "grouped_data = df_melted.groupby(['year', 'Food_Items', 'Region'])['Price'].apply(list).reset_index()\n",
    "\n",
    "# Get unique combinations of 'year' and 'Food_Items'\n",
    "unique_combinations = grouped_data.groupby(['year', 'Food_Items'])\n",
    "\n",
    "# Perform Kruskal-Wallis test for each combination of year and food item across regions\n",
    "results = []\n",
    "\n",
    "for (year, food_item), group in unique_combinations:\n",
    "    # Extract price data for each region\n",
    "    price_groups = [prices for prices in group['Price']]\n",
    "    \n",
    "    # Check if there are at least two regions to compare\n",
    "    if len(price_groups) > 1:\n",
    "        # Perform Kruskal-Wallis test\n",
    "        stat, p_value = kruskal(*price_groups)\n",
    "        results.append({\n",
    "            'Year': year,\n",
    "            'Food_Item': food_item,\n",
    "            'H-statistic': stat,\n",
    "            'p-value': p_value,\n",
    "            'Result': 'Significant' if p_value < 0.05 else 'Not Significant'\n",
    "        })\n",
    "    else:\n",
    "        results.append({\n",
    "            'Year': year,\n",
    "            'Food_Item': food_item,\n",
    "            'H-statistic': None,\n",
    "            'p-value': None,\n",
    "            'Result': 'Not enough regions to test'\n",
    "        })\n",
    "\n",
    "# Convert results into a DataFrame for better visualization\n",
    "results_df = pd.DataFrame(results)\n",
    "\n",
    "# Display the results\n",
    "results_df.to_csv(\"kruskal-wallis.csv\", index=False)"
   ]
  },
  {
   "cell_type": "markdown",
   "metadata": {},
   "source": [
    "##### upon checking the results, all of the regions per year and item have significant differences, which means that the prices of every item in the region per year are different, which may be due to various reasons like seasonality, transportation, and agricultural reasons."
   ]
  }
 ],
 "metadata": {
  "kernelspec": {
   "display_name": ".venv",
   "language": "python",
   "name": "python3"
  },
  "language_info": {
   "codemirror_mode": {
    "name": "ipython",
    "version": 3
   },
   "file_extension": ".py",
   "mimetype": "text/x-python",
   "name": "python",
   "nbconvert_exporter": "python",
   "pygments_lexer": "ipython3",
   "version": "3.12.8"
  }
 },
 "nbformat": 4,
 "nbformat_minor": 2
}
