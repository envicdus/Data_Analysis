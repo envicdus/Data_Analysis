{
 "cells": [
  {
   "cell_type": "code",
   "execution_count": 4,
   "metadata": {},
   "outputs": [],
   "source": [
    "import pandas as pd\n",
    "import requests"
   ]
  },
  {
   "cell_type": "code",
   "execution_count": 5,
   "metadata": {},
   "outputs": [],
   "source": [
    "csv_file = 'full_dataset.csv'\n",
    "json_url = 'https://microdata.worldbank.org/index.php/api/tables/data/fcv/wld_2021_rtfp_v02_m'\n",
    "limit = 99\n",
    "country = 'Philippines'"
   ]
  },
  {
   "cell_type": "code",
   "execution_count": 6,
   "metadata": {},
   "outputs": [
    {
     "name": "stdout",
     "output_type": "stream",
     "text": [
      "No new data to add.\n"
     ]
    }
   ],
   "source": [
    "def update_csv_from_json(csv_file, json_url, limit, country):\n",
    "    # Load CSV data\n",
    "    try:\n",
    "        df_csv = pd.read_csv(csv_file)\n",
    "    except FileNotFoundError:\n",
    "        print(f\"CSV file '{csv_file}' not found.\")\n",
    "        return\n",
    "\n",
    "    # Calculate offset (based on the current length of the CSV)\n",
    "    offset = len(df_csv)\n",
    "    \n",
    "    # Fetch new JSON data from the web using offset and limit\n",
    "    try:\n",
    "        response = requests.get(json_url, params={'limit': limit, 'offset': offset, 'country': country})\n",
    "        response.raise_for_status()  # Check if the request was successful\n",
    "        json_data = response.json()\n",
    "    except requests.exceptions.RequestException as e:\n",
    "        print(f\"Error fetching JSON data: {e}\")\n",
    "        return\n",
    "    \n",
    "    # Extract the metadata and data from the JSON response\n",
    "    found = json_data.get('metadata', {}).get('found', 0)\n",
    "    data = json_data.get('data', [])\n",
    "\n",
    "    # Check if there is new data to add\n",
    "    if len(data) > 0:\n",
    "        df_json = pd.json_normalize(data)\n",
    "        df_csv = pd.concat([df_csv, df_json], ignore_index=True)\n",
    "\n",
    "        # Save updated CSV file\n",
    "        df_csv.to_csv(csv_file, index=False)\n",
    "        print(f\"CSV file updated with {len(df_json)} new rows. Total records: {found}\")\n",
    "    else:\n",
    "        print(\"No new data to add.\")\n",
    "\n",
    "\n",
    "update_csv_from_json(csv_file, json_url, limit, country)\n"
   ]
  },
  {
   "cell_type": "code",
   "execution_count": 10,
   "metadata": {},
   "outputs": [
    {
     "name": "stdout",
     "output_type": "stream",
     "text": [
      "23653\n"
     ]
    }
   ],
   "source": [
    "df_csv = pd.read_csv(csv_file)\n",
    "print(len(df_csv))"
   ]
  }
 ],
 "metadata": {
  "kernelspec": {
   "display_name": ".venv",
   "language": "python",
   "name": "python3"
  },
  "language_info": {
   "codemirror_mode": {
    "name": "ipython",
    "version": 3
   },
   "file_extension": ".py",
   "mimetype": "text/x-python",
   "name": "python",
   "nbconvert_exporter": "python",
   "pygments_lexer": "ipython3",
   "version": "3.12.8"
  }
 },
 "nbformat": 4,
 "nbformat_minor": 2
}
