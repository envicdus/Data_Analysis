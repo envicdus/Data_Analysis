{
 "cells": [
  {
   "cell_type": "code",
   "execution_count": 21,
   "metadata": {},
   "outputs": [],
   "source": [
    "import requests\n",
    "import pandas as pd"
   ]
  },
  {
   "cell_type": "code",
   "execution_count": 22,
   "metadata": {},
   "outputs": [],
   "source": [
    "# API URL and parameters\n",
    "url = \"https://microdata.worldbank.org/index.php/api/tables/data/fcv/wld_2021_rtfp_v02_m\"\n",
    "limit = 99  # Server-enforced limit\n",
    "country = 'Philippines'"
   ]
  },
  {
   "cell_type": "code",
   "execution_count": 23,
   "metadata": {},
   "outputs": [],
   "source": [
    "# Function to fetch all data\n",
    "def fetch_all_data(url, limit):\n",
    "    data = []\n",
    "    offset = 0\n",
    "    total_records = None\n",
    "\n",
    "    while True:\n",
    "        # Make API request\n",
    "        response = requests.get(url, params={'limit': limit, 'offset': offset, 'country': country})\n",
    "        response.raise_for_status()\n",
    "        response_data = response.json()\n",
    "\n",
    "        # Extract data from 'data' key\n",
    "        batch_data = response_data.get('data', [])\n",
    "        \n",
    "        if not batch_data:\n",
    "            # Exit loop if no more data is returned\n",
    "            print(\"No more data to fetch.\")\n",
    "            break\n",
    "\n",
    "        # If this is the first response, check the total records\n",
    "        if total_records is None:\n",
    "            total_records = response_data.get('found', None)\n",
    "            if total_records:\n",
    "                print(f\"Total records available: {total_records}\")\n",
    "        \n",
    "        # Add fetched data to the main list\n",
    "        data.extend(batch_data)\n",
    "        print(f\"Fetched {len(batch_data)} rows. Total fetched so far: {len(data)}\")\n",
    "\n",
    "        # Break if we've fetched all available data (based on the 'total' field if available)\n",
    "        if total_records and len(data) >= total_records:\n",
    "            print(\"Fetched all available records.\")\n",
    "            break\n",
    "        \n",
    "        # Increment offset\n",
    "        offset += limit\n",
    "\n",
    "    return data"
   ]
  },
  {
   "cell_type": "code",
   "execution_count": null,
   "metadata": {},
   "outputs": [],
   "source": [
    "# Fetch the whole dataset\n",
    "all_data = fetch_all_data(url, limit)"
   ]
  },
  {
   "cell_type": "code",
   "execution_count": null,
   "metadata": {},
   "outputs": [],
   "source": [
    "# Convert to a DataFrame\n",
    "df = pd.DataFrame(all_data)\n",
    "print(f\"Total rows fetched: {len(df)}\")"
   ]
  },
  {
   "cell_type": "code",
   "execution_count": null,
   "metadata": {},
   "outputs": [],
   "source": [
    "# Save to CSV\n",
    "df.to_csv('full_dataset.csv', index=False)\n",
    "print(\"All data saved to full_dataset.csv\")"
   ]
  }
 ],
 "metadata": {
  "kernelspec": {
   "display_name": ".venv",
   "language": "python",
   "name": "python3"
  },
  "language_info": {
   "codemirror_mode": {
    "name": "ipython",
    "version": 3
   },
   "file_extension": ".py",
   "mimetype": "text/x-python",
   "name": "python",
   "nbconvert_exporter": "python",
   "pygments_lexer": "ipython3",
   "version": "3.12.8"
  }
 },
 "nbformat": 4,
 "nbformat_minor": 2
}
