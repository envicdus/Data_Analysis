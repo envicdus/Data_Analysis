{
 "cells": [
  {
   "cell_type": "code",
   "execution_count": 11,
   "metadata": {},
   "outputs": [],
   "source": [
    "import pandas as pd"
   ]
  },
  {
   "cell_type": "code",
   "execution_count": 12,
   "metadata": {},
   "outputs": [],
   "source": [
    "# Load your dataset (replace with your actual file path)\n",
    "file_path = \"../External/full_dataset.csv\"\n",
    "df = pd.read_csv(file_path)"
   ]
  },
  {
   "cell_type": "code",
   "execution_count": 13,
   "metadata": {},
   "outputs": [
    {
     "name": "stdout",
     "output_type": "stream",
     "text": [
      "Before Cleaning:\n",
      "  ISO3      country                         adm1_name adm2_name mkt_name  \\\n",
      "0  PHL  Philippines  Cordillera Administrative region      Abra     Abra   \n",
      "1  PHL  Philippines  Cordillera Administrative region      Abra     Abra   \n",
      "2  PHL  Philippines  Cordillera Administrative region      Abra     Abra   \n",
      "3  PHL  Philippines  Cordillera Administrative region      Abra     Abra   \n",
      "4  PHL  Philippines  Cordillera Administrative region      Abra     Abra   \n",
      "\n",
      "         lat         lon                   geo_id       DATES  year  ...  \\\n",
      "0  17.600651  120.619362  gid_1760065101206193620  2007-01-01  2007  ...   \n",
      "1  17.600651  120.619362  gid_1760065101206193620  2007-02-01  2007  ...   \n",
      "2  17.600651  120.619362  gid_1760065101206193620  2007-03-01  2007  ...   \n",
      "3  17.600651  120.619362  gid_1760065101206193620  2007-04-01  2007  ...   \n",
      "4  17.600651  120.619362  gid_1760065101206193620  2007-05-01  2007  ...   \n",
      "\n",
      "   l_yogurt c_yogurt inflation_yogurt trust_yogurt o_food_price_index  \\\n",
      "0       NaN      NaN              NaN          NaN               0.68   \n",
      "1       NaN      NaN              NaN          NaN               0.68   \n",
      "2       NaN      NaN              NaN          NaN               0.66   \n",
      "3       NaN      NaN              NaN          NaN               0.66   \n",
      "4       NaN      NaN              NaN          NaN               0.67   \n",
      "\n",
      "   h_food_price_index  l_food_price_index  c_food_price_index  \\\n",
      "0                0.69                0.67                0.68   \n",
      "1                0.69                0.67                0.67   \n",
      "2                0.67                0.65                0.66   \n",
      "3                0.67                0.65                0.66   \n",
      "4                0.68                0.66                0.67   \n",
      "\n",
      "   inflation_food_price_index  trust_food_price_index  \n",
      "0                         NaN                     9.4  \n",
      "1                         NaN                     9.4  \n",
      "2                         NaN                     9.4  \n",
      "3                         NaN                     9.4  \n",
      "4                         NaN                     9.4  \n",
      "\n",
      "[5 rows x 508 columns]\n"
     ]
    }
   ],
   "source": [
    "# Display the first few rows before cleaning\n",
    "print(\"Before Cleaning:\")\n",
    "print(df.head())"
   ]
  },
  {
   "cell_type": "code",
   "execution_count": 14,
   "metadata": {},
   "outputs": [
    {
     "name": "stdout",
     "output_type": "stream",
     "text": [
      "Empty columns to drop: ['apples', 'bananas', 'bread', 'bulgur', 'cassava', 'cassava_flour', 'cassava_meal', 'cheese', 'chickpeas', 'chili', 'coffee_instant', 'couscous', 'cowpeas', 'cucumbers', 'dates', 'fish', 'fish_catfish', 'fish_mackerel', 'fish_sardine_canned', 'fish_tilapia', 'fish_tuna_canned', 'gari', 'groundnuts', 'lentils', 'livestock_sheep_two_year_old_male', 'livestocksheep_castrated_male', 'maize', 'maize_meal', 'meat_beef', 'meat_beef_minced', 'meat_buffalo', 'meat_chicken', 'meat_chicken_broiler', 'meat_chicken_plucked', 'meat_goat', 'meat_lamb', 'milk', 'millet', 'oil', 'oranges', 'parsley', 'pasta', 'peas', 'plantains', 'pulses', 'rice_various', 'salt', 'sesame', 'sorghum', 'sorghum_food_aid', 'sugar', 'tea', 'tomatoes_paste', 'wheat', 'wheat_flour', 'yam', 'yogurt', 'o_apples', 'h_apples', 'l_apples', 'c_apples', 'inflation_apples', 'trust_apples', 'o_bananas', 'h_bananas', 'l_bananas', 'c_bananas', 'inflation_bananas', 'trust_bananas', 'o_bread', 'h_bread', 'l_bread', 'c_bread', 'inflation_bread', 'trust_bread', 'o_bulgur', 'h_bulgur', 'l_bulgur', 'c_bulgur', 'inflation_bulgur', 'trust_bulgur', 'o_cassava', 'h_cassava', 'l_cassava', 'c_cassava', 'inflation_cassava', 'trust_cassava', 'o_cassava_flour', 'h_cassava_flour', 'l_cassava_flour', 'c_cassava_flour', 'inflation_cassava_flour', 'trust_cassava_flour', 'o_cassava_meal', 'h_cassava_meal', 'l_cassava_meal', 'c_cassava_meal', 'inflation_cassava_meal', 'trust_cassava_meal', 'o_cheese', 'h_cheese', 'l_cheese', 'c_cheese', 'inflation_cheese', 'trust_cheese', 'o_chickpeas', 'h_chickpeas', 'l_chickpeas', 'c_chickpeas', 'inflation_chickpeas', 'trust_chickpeas', 'o_chili', 'h_chili', 'l_chili', 'c_chili', 'inflation_chili', 'trust_chili', 'o_coffee_instant', 'h_coffee_instant', 'l_coffee_instant', 'c_coffee_instant', 'inflation_coffee_instant', 'trust_coffee_instant', 'o_couscous', 'h_couscous', 'l_couscous', 'c_couscous', 'inflation_couscous', 'trust_couscous', 'o_cowpeas', 'h_cowpeas', 'l_cowpeas', 'c_cowpeas', 'inflation_cowpeas', 'trust_cowpeas', 'o_cucumbers', 'h_cucumbers', 'l_cucumbers', 'c_cucumbers', 'inflation_cucumbers', 'trust_cucumbers', 'o_dates', 'h_dates', 'l_dates', 'c_dates', 'inflation_dates', 'trust_dates', 'o_fish', 'h_fish', 'l_fish', 'c_fish', 'inflation_fish', 'trust_fish', 'o_fish_catfish', 'h_fish_catfish', 'l_fish_catfish', 'c_fish_catfish', 'inflation_fish_catfish', 'trust_fish_catfish', 'o_fish_mackerel', 'h_fish_mackerel', 'l_fish_mackerel', 'c_fish_mackerel', 'inflation_fish_mackerel', 'trust_fish_mackerel', 'o_fish_sardine_canned', 'h_fish_sardine_canned', 'l_fish_sardine_canned', 'c_fish_sardine_canned', 'inflation_fish_sardine_canned', 'trust_fish_sardine_canned', 'o_fish_tilapia', 'h_fish_tilapia', 'l_fish_tilapia', 'c_fish_tilapia', 'inflation_fish_tilapia', 'trust_fish_tilapia', 'o_fish_tuna_canned', 'h_fish_tuna_canned', 'l_fish_tuna_canned', 'c_fish_tuna_canned', 'inflation_fish_tuna_canned', 'trust_fish_tuna_canned', 'o_gari', 'h_gari', 'l_gari', 'c_gari', 'inflation_gari', 'trust_gari', 'o_groundnuts', 'h_groundnuts', 'l_groundnuts', 'c_groundnuts', 'inflation_groundnuts', 'trust_groundnuts', 'o_lentils', 'h_lentils', 'l_lentils', 'c_lentils', 'inflation_lentils', 'trust_lentils', 'o_livestock_sheep_two_year_old_male', 'h_livestock_sheep_two_year_old_male', 'l_livestock_sheep_two_year_old_male', 'c_livestock_sheep_two_year_old_male', 'inflation_livestock_sheep_two_year_old_male', 'trust_livestock_sheep_two_year_old_male', 'o_livestocksheep_castrated_male', 'h_livestocksheep_castrated_male', 'l_livestocksheep_castrated_male', 'c_livestocksheep_castrated_male', 'inflation_livestocksheep_castrated_male', 'trust_livestocksheep_castrated_male', 'o_maize', 'h_maize', 'l_maize', 'c_maize', 'inflation_maize', 'trust_maize', 'o_maize_meal', 'h_maize_meal', 'l_maize_meal', 'c_maize_meal', 'inflation_maize_meal', 'trust_maize_meal', 'o_meat_beef', 'h_meat_beef', 'l_meat_beef', 'c_meat_beef', 'inflation_meat_beef', 'trust_meat_beef', 'o_meat_beef_minced', 'h_meat_beef_minced', 'l_meat_beef_minced', 'c_meat_beef_minced', 'inflation_meat_beef_minced', 'trust_meat_beef_minced', 'o_meat_buffalo', 'h_meat_buffalo', 'l_meat_buffalo', 'c_meat_buffalo', 'inflation_meat_buffalo', 'trust_meat_buffalo', 'o_meat_chicken', 'h_meat_chicken', 'l_meat_chicken', 'c_meat_chicken', 'inflation_meat_chicken', 'trust_meat_chicken', 'o_meat_chicken_broiler', 'h_meat_chicken_broiler', 'l_meat_chicken_broiler', 'c_meat_chicken_broiler', 'inflation_meat_chicken_broiler', 'trust_meat_chicken_broiler', 'o_meat_chicken_plucked', 'h_meat_chicken_plucked', 'l_meat_chicken_plucked', 'c_meat_chicken_plucked', 'inflation_meat_chicken_plucked', 'trust_meat_chicken_plucked', 'o_meat_goat', 'h_meat_goat', 'l_meat_goat', 'c_meat_goat', 'inflation_meat_goat', 'trust_meat_goat', 'o_meat_lamb', 'h_meat_lamb', 'l_meat_lamb', 'c_meat_lamb', 'inflation_meat_lamb', 'trust_meat_lamb', 'o_milk', 'h_milk', 'l_milk', 'c_milk', 'inflation_milk', 'trust_milk', 'o_millet', 'h_millet', 'l_millet', 'c_millet', 'inflation_millet', 'trust_millet', 'o_oil', 'h_oil', 'l_oil', 'c_oil', 'inflation_oil', 'trust_oil', 'o_oranges', 'h_oranges', 'l_oranges', 'c_oranges', 'inflation_oranges', 'trust_oranges', 'o_parsley', 'h_parsley', 'l_parsley', 'c_parsley', 'inflation_parsley', 'trust_parsley', 'o_pasta', 'h_pasta', 'l_pasta', 'c_pasta', 'inflation_pasta', 'trust_pasta', 'o_peas', 'h_peas', 'l_peas', 'c_peas', 'inflation_peas', 'trust_peas', 'o_plantains', 'h_plantains', 'l_plantains', 'c_plantains', 'inflation_plantains', 'trust_plantains', 'o_pulses', 'h_pulses', 'l_pulses', 'c_pulses', 'inflation_pulses', 'trust_pulses', 'o_rice_various', 'h_rice_various', 'l_rice_various', 'c_rice_various', 'inflation_rice_various', 'trust_rice_various', 'o_salt', 'h_salt', 'l_salt', 'c_salt', 'inflation_salt', 'trust_salt', 'o_sesame', 'h_sesame', 'l_sesame', 'c_sesame', 'inflation_sesame', 'trust_sesame', 'o_sorghum', 'h_sorghum', 'l_sorghum', 'c_sorghum', 'inflation_sorghum', 'trust_sorghum', 'o_sorghum_food_aid', 'h_sorghum_food_aid', 'l_sorghum_food_aid', 'c_sorghum_food_aid', 'inflation_sorghum_food_aid', 'trust_sorghum_food_aid', 'o_sugar', 'h_sugar', 'l_sugar', 'c_sugar', 'inflation_sugar', 'trust_sugar', 'o_tea', 'h_tea', 'l_tea', 'c_tea', 'inflation_tea', 'trust_tea', 'o_tomatoes_paste', 'h_tomatoes_paste', 'l_tomatoes_paste', 'c_tomatoes_paste', 'inflation_tomatoes_paste', 'trust_tomatoes_paste', 'o_wheat', 'h_wheat', 'l_wheat', 'c_wheat', 'inflation_wheat', 'trust_wheat', 'o_wheat_flour', 'h_wheat_flour', 'l_wheat_flour', 'c_wheat_flour', 'inflation_wheat_flour', 'trust_wheat_flour', 'o_yam', 'h_yam', 'l_yam', 'c_yam', 'inflation_yam', 'trust_yam', 'o_yogurt', 'h_yogurt', 'l_yogurt', 'c_yogurt', 'inflation_yogurt', 'trust_yogurt']\n"
     ]
    }
   ],
   "source": [
    "# Identify and drop empty columns\n",
    "empty_columns = df.columns[df.isnull().all()]  # Columns where all values are NaN\n",
    "print(f\"Empty columns to drop: {empty_columns.tolist()}\")"
   ]
  },
  {
   "cell_type": "code",
   "execution_count": 15,
   "metadata": {},
   "outputs": [],
   "source": [
    "# Drop empty columns\n",
    "df_cleaned = df.drop(columns=empty_columns)"
   ]
  },
  {
   "cell_type": "code",
   "execution_count": 16,
   "metadata": {},
   "outputs": [
    {
     "name": "stdout",
     "output_type": "stream",
     "text": [
      "After Cleaning:\n",
      "  ISO3      country                         adm1_name adm2_name mkt_name  \\\n",
      "0  PHL  Philippines  Cordillera Administrative region      Abra     Abra   \n",
      "1  PHL  Philippines  Cordillera Administrative region      Abra     Abra   \n",
      "2  PHL  Philippines  Cordillera Administrative region      Abra     Abra   \n",
      "3  PHL  Philippines  Cordillera Administrative region      Abra     Abra   \n",
      "4  PHL  Philippines  Cordillera Administrative region      Abra     Abra   \n",
      "\n",
      "         lat         lon                   geo_id       DATES  year  ...  \\\n",
      "0  17.600651  120.619362  gid_1760065101206193620  2007-01-01  2007  ...   \n",
      "1  17.600651  120.619362  gid_1760065101206193620  2007-02-01  2007  ...   \n",
      "2  17.600651  120.619362  gid_1760065101206193620  2007-03-01  2007  ...   \n",
      "3  17.600651  120.619362  gid_1760065101206193620  2007-04-01  2007  ...   \n",
      "4  17.600651  120.619362  gid_1760065101206193620  2007-05-01  2007  ...   \n",
      "\n",
      "   l_tomatoes c_tomatoes inflation_tomatoes trust_tomatoes o_food_price_index  \\\n",
      "0       26.03      27.84                NaN            8.0               0.68   \n",
      "1       26.31      26.82                NaN            8.0               0.68   \n",
      "2       24.95      26.21                NaN            8.0               0.66   \n",
      "3       24.93      26.74                NaN            8.0               0.66   \n",
      "4       26.30      27.19                NaN            8.0               0.67   \n",
      "\n",
      "   h_food_price_index  l_food_price_index  c_food_price_index  \\\n",
      "0                0.69                0.67                0.68   \n",
      "1                0.69                0.67                0.67   \n",
      "2                0.67                0.65                0.66   \n",
      "3                0.67                0.65                0.66   \n",
      "4                0.68                0.66                0.67   \n",
      "\n",
      "   inflation_food_price_index  trust_food_price_index  \n",
      "0                         NaN                     9.4  \n",
      "1                         NaN                     9.4  \n",
      "2                         NaN                     9.4  \n",
      "3                         NaN                     9.4  \n",
      "4                         NaN                     9.4  \n",
      "\n",
      "[5 rows x 109 columns]\n"
     ]
    }
   ],
   "source": [
    "# Display the cleaned dataset\n",
    "print(\"After Cleaning:\")\n",
    "print(df_cleaned.head())"
   ]
  },
  {
   "cell_type": "code",
   "execution_count": 17,
   "metadata": {},
   "outputs": [],
   "source": [
    "# Dropping unneeded columns\n",
    "cleaned_data = df_cleaned.drop(columns=['ISO3', 'geo_id', 'currency', 'components', 'start_dense_data', 'last_survey_point', 'data_coverage', 'data_coverage_recent', 'index_confidence_score', 'spatially_interpolated'])"
   ]
  },
  {
   "cell_type": "code",
   "execution_count": 18,
   "metadata": {},
   "outputs": [
    {
     "name": "stdout",
     "output_type": "stream",
     "text": [
      "Missing values per column:\n",
      "country                          0\n",
      "adm1_name                        0\n",
      "adm2_name                        0\n",
      "mkt_name                         0\n",
      "lat                            217\n",
      "                              ... \n",
      "h_food_price_index               0\n",
      "l_food_price_index               0\n",
      "c_food_price_index               0\n",
      "inflation_food_price_index    1308\n",
      "trust_food_price_index           0\n",
      "Length: 99, dtype: int64\n"
     ]
    }
   ],
   "source": [
    "missing_values = cleaned_data.isnull().sum()\n",
    "print(\"Missing values per column:\")\n",
    "print(missing_values)"
   ]
  },
  {
   "cell_type": "code",
   "execution_count": 19,
   "metadata": {},
   "outputs": [],
   "source": [
    "# Rename multiple columns at once\n",
    "cleaned_data.rename(columns={'DATES': 'Date', 'adm1_name': 'Region', 'adm2_name': 'Province', 'mkt_name': 'City'}, inplace=True)"
   ]
  },
  {
   "cell_type": "code",
   "execution_count": 20,
   "metadata": {},
   "outputs": [],
   "source": [
    "# Save cleaned data to a CSV file\n",
    "cleaned_data.to_csv(\"cleaned_food_prices.csv\", index=False)"
   ]
  }
 ],
 "metadata": {
  "kernelspec": {
   "display_name": ".venv",
   "language": "python",
   "name": "python3"
  },
  "language_info": {
   "codemirror_mode": {
    "name": "ipython",
    "version": 3
   },
   "file_extension": ".py",
   "mimetype": "text/x-python",
   "name": "python",
   "nbconvert_exporter": "python",
   "pygments_lexer": "ipython3",
   "version": "3.12.8"
  }
 },
 "nbformat": 4,
 "nbformat_minor": 2
}
