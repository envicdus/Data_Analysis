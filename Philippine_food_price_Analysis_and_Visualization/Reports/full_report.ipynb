{
 "cells": [
  {
   "cell_type": "markdown",
   "metadata": {},
   "source": [
    "# Full Analysis of Philippine Food prices from 2007 - 2025"
   ]
  },
  {
   "cell_type": "markdown",
   "metadata": {},
   "source": [
    "## Aims:\n",
    "    ### 1. Compare average prices across different regions for the same food item and year.\n",
    "    ### 2. Examine how prices of a specific food item have changed over time within a region.\n",
    "    ### 3. Identify regional price variations for different food items.\n",
    "    ### 4. Predict future food prices based on historical data."
   ]
  },
  {
   "cell_type": "code",
   "execution_count": 1,
   "metadata": {},
   "outputs": [],
   "source": [
    "import pandas as pd\n",
    "import numpy as np\n",
    "from scipy.stats import shapiro\n",
    "from scipy.stats import kruskal\n",
    "import seaborn as sns\n",
    "import statsmodels.api as sm\n",
    "import matplotlib.pyplot as plt\n",
    "from scipy.stats import levene\n",
    "from ipywidgets import interact\n",
    "import dash\n",
    "from dash import dcc, html, Input, Output\n",
    "import plotly.express as px"
   ]
  },
  {
   "cell_type": "code",
   "execution_count": 2,
   "metadata": {},
   "outputs": [],
   "source": [
    "#open the file that was already cleaned, analyzed, and saved.\n",
    "file_path = \"../Data/Processed/eda_results.csv\"\n",
    "df = pd.read_csv(file_path)"
   ]
  },
  {
   "cell_type": "markdown",
   "metadata": {},
   "source": [
    "#### Inspect the data"
   ]
  },
  {
   "cell_type": "code",
   "execution_count": 3,
   "metadata": {},
   "outputs": [
    {
     "name": "stdout",
     "output_type": "stream",
     "text": [
      "                                 Region Province Food_Items  year  mean  \\\n",
      "0  Autonomous region in Muslim Mindanao  Basilan      beans  2007   NaN   \n",
      "1  Autonomous region in Muslim Mindanao  Basilan      beans  2008   NaN   \n",
      "2  Autonomous region in Muslim Mindanao  Basilan      beans  2009   NaN   \n",
      "3  Autonomous region in Muslim Mindanao  Basilan      beans  2010   NaN   \n",
      "4  Autonomous region in Muslim Mindanao  Basilan      beans  2011   NaN   \n",
      "\n",
      "   median  Mode  Range  Variance  Standard Deviation  IQR  \n",
      "0     NaN   NaN    NaN       NaN                 NaN  NaN  \n",
      "1     NaN   NaN    NaN       NaN                 NaN  NaN  \n",
      "2     NaN   NaN    NaN       NaN                 NaN  NaN  \n",
      "3     NaN   NaN    NaN       NaN                 NaN  NaN  \n",
      "4     NaN   NaN    NaN       NaN                 NaN  NaN  \n"
     ]
    }
   ],
   "source": [
    "# View the first few rows of the dataset\n",
    "print(df.head())"
   ]
  },
  {
   "cell_type": "code",
   "execution_count": 4,
   "metadata": {},
   "outputs": [
    {
     "name": "stdout",
     "output_type": "stream",
     "text": [
      "<class 'pandas.core.frame.DataFrame'>\n",
      "RangeIndex: 91200 entries, 0 to 91199\n",
      "Data columns (total 11 columns):\n",
      " #   Column              Non-Null Count  Dtype  \n",
      "---  ------              --------------  -----  \n",
      " 0   Region              91200 non-null  object \n",
      " 1   Province            91200 non-null  object \n",
      " 2   Food_Items          91200 non-null  object \n",
      " 3   year                91200 non-null  int64  \n",
      " 4   mean                78875 non-null  float64\n",
      " 5   median              78875 non-null  float64\n",
      " 6   Mode                36432 non-null  float64\n",
      " 7   Range               78875 non-null  float64\n",
      " 8   Variance            76125 non-null  float64\n",
      " 9   Standard Deviation  76125 non-null  float64\n",
      " 10  IQR                 78875 non-null  float64\n",
      "dtypes: float64(7), int64(1), object(3)\n",
      "memory usage: 7.7+ MB\n",
      "None\n"
     ]
    }
   ],
   "source": [
    "# View the columns and data types of the dataset\n",
    "print(df.info())"
   ]
  },
  {
   "cell_type": "code",
   "execution_count": 5,
   "metadata": {},
   "outputs": [
    {
     "name": "stdout",
     "output_type": "stream",
     "text": [
      "               year          mean        median          Mode         Range  \\\n",
      "count  91200.000000  78875.000000  78875.000000  36432.000000  78875.000000   \n",
      "mean    2016.000000    105.451058    104.863522     53.431795     19.928863   \n",
      "std        5.477256     78.042087     77.886750     36.845196     29.255316   \n",
      "min     2007.000000      3.913333      3.910000      4.000000      0.000000   \n",
      "25%     2011.000000     45.180000     44.880000     21.550000      4.300000   \n",
      "50%     2016.000000     83.240417     82.675000     50.880000     10.210000   \n",
      "75%     2021.000000    157.035417    156.402500     82.030000     24.410000   \n",
      "max     2025.000000    472.291667    470.625000    220.310000    524.850000   \n",
      "\n",
      "           Variance  Standard Deviation           IQR  \n",
      "count  76125.000000        76125.000000  78875.000000  \n",
      "mean     122.240405            6.382062      7.540924  \n",
      "std      563.636799            9.028331     10.880566  \n",
      "min        0.000000            0.000000      0.000000  \n",
      "25%        2.445597            1.563840      1.665000  \n",
      "50%       11.208699            3.347940      3.950000  \n",
      "75%       60.107766            7.752920      9.345000  \n",
      "max    24723.623884          157.237476    229.622500  \n"
     ]
    }
   ],
   "source": [
    "# View the summary statistics of the dataset though this may not make sense as they are already described in the EDA report\n",
    "print(df.describe())"
   ]
  },
  {
   "cell_type": "code",
   "execution_count": 6,
   "metadata": {},
   "outputs": [
    {
     "name": "stdout",
     "output_type": "stream",
     "text": [
      "(91200, 11)\n"
     ]
    }
   ],
   "source": [
    "#check the shape of the dataset\n",
    "print(df.shape)"
   ]
  },
  {
   "cell_type": "code",
   "execution_count": 7,
   "metadata": {},
   "outputs": [
    {
     "name": "stdout",
     "output_type": "stream",
     "text": [
      "min    2007\n",
      "max    2025\n",
      "Name: year, dtype: int64\n"
     ]
    }
   ],
   "source": [
    "# get the first and last readings for each food item\n",
    "print(df['year'].agg(['min', 'max']))"
   ]
  },
  {
   "cell_type": "markdown",
   "metadata": {},
   "source": [
    "For comparing average prices across regions for the same food item and year, the closing price is generally the best price to use. Here’s why:\n",
    "\n",
    "1. Consistency: The closing price is considered the most representative of the market's consensus for that period. It accounts for the entire trading session and reflects both supply and demand dynamics over time.\n",
    "2. Standard Usage: The closing price is the most widely used price in financial markets, meaning data and analysis are typically focused around this price.\n",
    "3. Simplicity: It eliminates the noise created by intra-day fluctuations, focusing on the price at the end of the trading session, which is more relevant for long-term comparisons."
   ]
  },
  {
   "cell_type": "code",
   "execution_count": 8,
   "metadata": {},
   "outputs": [
    {
     "name": "stdout",
     "output_type": "stream",
     "text": [
      "                                     Region         Province  Food_Items  \\\n",
      "19     Autonomous region in Muslim Mindanao          Basilan     c_beans   \n",
      "20     Autonomous region in Muslim Mindanao          Basilan     c_beans   \n",
      "21     Autonomous region in Muslim Mindanao          Basilan     c_beans   \n",
      "22     Autonomous region in Muslim Mindanao          Basilan     c_beans   \n",
      "23     Autonomous region in Muslim Mindanao          Basilan     c_beans   \n",
      "...                                     ...              ...         ...   \n",
      "90302                           Region XIII  Surigao del Sur  c_tomatoes   \n",
      "90303                           Region XIII  Surigao del Sur  c_tomatoes   \n",
      "90304                           Region XIII  Surigao del Sur  c_tomatoes   \n",
      "90305                           Region XIII  Surigao del Sur  c_tomatoes   \n",
      "90306                           Region XIII  Surigao del Sur  c_tomatoes   \n",
      "\n",
      "       year       mean  median  Mode  Range   Variance  Standard Deviation  \\\n",
      "19     2007  74.937500  74.850   NaN   1.73   0.414093            0.643501   \n",
      "20     2008  73.472500  73.445   NaN   4.16   2.735784            1.654021   \n",
      "21     2009  73.852500  73.690   NaN   3.15   1.378330            1.174023   \n",
      "22     2010  74.190000  73.865   NaN   2.83   0.903018            0.950273   \n",
      "23     2011  76.970000  76.740   NaN   2.05   0.445182            0.667219   \n",
      "...     ...        ...     ...   ...    ...        ...                 ...   \n",
      "90302  2021  58.730000  60.485   NaN  27.90  53.710496            7.328744   \n",
      "90303  2022  68.305833  69.285   NaN  21.71  37.754260            6.144450   \n",
      "90304  2023  74.167500  77.150   NaN  36.94  73.676307            8.583490   \n",
      "90305  2024  72.177083  71.815   NaN  26.27  45.560326            6.749839   \n",
      "90306  2025  79.225000  79.225   NaN   1.75   1.531250            1.237437   \n",
      "\n",
      "          IQR  \n",
      "19     1.1250  \n",
      "20     3.3500  \n",
      "21     2.1300  \n",
      "22     1.2125  \n",
      "23     0.6225  \n",
      "...       ...  \n",
      "90302  6.6175  \n",
      "90303  6.4875  \n",
      "90304  9.0825  \n",
      "90305  8.5200  \n",
      "90306  0.8750  \n",
      "\n",
      "[18240 rows x 11 columns]\n"
     ]
    }
   ],
   "source": [
    "# Filter the dataframe to keep only rows where 'food_item' starts with 'c_'\n",
    "df_filtered = df[df['Food_Items'].str.startswith('c_')]\n",
    "\n",
    "print(df_filtered)"
   ]
  },
  {
   "cell_type": "code",
   "execution_count": 36,
   "metadata": {},
   "outputs": [
    {
     "data": {
      "text/html": [
       "\n",
       "        <iframe\n",
       "            width=\"100%\"\n",
       "            height=\"650\"\n",
       "            src=\"http://127.0.0.1:8050/\"\n",
       "            frameborder=\"0\"\n",
       "            allowfullscreen\n",
       "            \n",
       "        ></iframe>\n",
       "        "
      ],
      "text/plain": [
       "<IPython.lib.display.IFrame at 0x22ed8edcf20>"
      ]
     },
     "metadata": {},
     "output_type": "display_data"
    }
   ],
   "source": [
    "# Due to having 18 regions in the Philippines, instead of creating a graph for each region, we will create a graph for each food item\n",
    "# and make an interactive plot with a dropdown to select the food item.\n",
    "\n",
    "# Initialize the Dash app\n",
    "app = dash.Dash(__name__)\n",
    "\n",
    "# Dropdown options for food items, removing c_ prefix\n",
    "food_item_options = [{'label': item.replace('c_', ''), 'value': item} for item in df_filtered['Food_Items'].unique()]\n",
    "\n",
    "# Dropdown options for mean/median\n",
    "mean_median_options = [\n",
    "    {'label': 'mean', 'value': 'mean'},\n",
    "    {'label': 'median', 'value': 'median'}\n",
    "]\n",
    "\n",
    "# App layout\n",
    "app.layout = html.Div([\n",
    "    html.H1(\"Region-wise Food Data Visualization\"),\n",
    "    \n",
    "    # Dropdown for selecting food item\n",
    "    dcc.Dropdown(\n",
    "        id='food_item_dropdown',\n",
    "        options=food_item_options,\n",
    "        value='Apples',  # Default food item\n",
    "        style={'width': '50%'}\n",
    "    ),\n",
    "    \n",
    "    # Dropdown for selecting mean or median\n",
    "    dcc.Dropdown(\n",
    "        id='mean_median_dropdown',\n",
    "        options=mean_median_options,\n",
    "        value='mean',  # Default selection is 'mean'\n",
    "        style={'width': '50%'}\n",
    "    ),\n",
    "    \n",
    "    # Graph to display the data\n",
    "    dcc.Graph(id='region_graph')\n",
    "])\n",
    "\n",
    "# Callback to update the graph based on selected food item and mean/median\n",
    "@app.callback(\n",
    "    dash.dependencies.Output('region_graph', 'figure'),\n",
    "    [\n",
    "        dash.dependencies.Input('food_item_dropdown', 'value'),\n",
    "        dash.dependencies.Input('mean_median_dropdown', 'value')\n",
    "    ]\n",
    ")\n",
    "def update_graph(selected_food_item, selected_stat):\n",
    "    # Handle the case where selected_food_item is None\n",
    "    if not selected_food_item:\n",
    "        return px.line(title=\"No food item selected\")\n",
    "    \n",
    "    # Filter the data based on the selected food item\n",
    "    filtered_df = df_filtered[df_filtered['Food_Items'] == selected_food_item]\n",
    "    \n",
    "    # Remove the 'c_' prefix for display purposes in the title\n",
    "    display_food_item = selected_food_item.replace('c_', '')\n",
    "    \n",
    "    # Find the first and last year in the filtered dataset\n",
    "    first_year = filtered_df['year'].min()\n",
    "    last_year = filtered_df['year'].max()\n",
    "\n",
    "    # Create a plot based on the selected statistic (mean or median)\n",
    "    fig = px.line(\n",
    "        filtered_df, \n",
    "        x='year', \n",
    "        y=selected_stat, \n",
    "        color='Region', \n",
    "        title=f'{selected_stat.capitalize()} for {display_food_item} by Region and Year',\n",
    "        labels={selected_stat: selected_stat.capitalize(), 'year': 'Year', 'Region': 'Region'}\n",
    "    )\n",
    "\n",
    "    # Extend the x-axis to include the last year\n",
    "    fig.update_xaxes(\n",
    "        tickmode='linear',  # Ensure all years are shown on the x-axis\n",
    "        tick0=first_year,   # Start from the first year\n",
    "        dtick=1,            # Increment by 1 year\n",
    "        range=[first_year, last_year + 1]  # Extend the range to include the last year\n",
    "    )\n",
    "    \n",
    "    return fig\n",
    "\n",
    "\n",
    "# Run the app\n",
    "if __name__ == '__main__':\n",
    "    app.run_server(debug=True, port=8050, mode='inline', name=\"app\")\n",
    "# Run the Dash apps with unique URLs\n"
   ]
  },
  {
   "cell_type": "markdown",
   "metadata": {},
   "source": [
    "The graph shows the mean (average) price or median price of different food items over time for different regions in the Philippines.\n",
    "#### Key Observation\n",
    "1. Trend - Generally, the price of all food items has been increasing over the years across most regions. There are some fluctuations and periods of stability for some items, but the overall trend is upward.\n",
    "2. Regional Differences - There is significant variation in price of different food items across regions. Some regions consistently have higher prices than others. Price fluctuations also varies between regions. Some regions experience more volatile prices than others.\n",
    "\n",
    "Factors like weather patterns, government policies, agriculture changes, food transportation and global market trends can influence these prices."
   ]
  },
  {
   "cell_type": "markdown",
   "metadata": {},
   "source": [
    "To know which regions has the highest and lowest price every year for every food item, max, min will be calculated. Then range is next to know how wide the difference between the highest and lowest price."
   ]
  },
  {
   "cell_type": "code",
   "execution_count": 23,
   "metadata": {},
   "outputs": [
    {
     "name": "stdout",
     "output_type": "stream",
     "text": [
      "                                   Region  year Food_Items  Price\n",
      "354795   Cordillera Administrative region  2007      beans  84.71\n",
      "354796   Cordillera Administrative region  2007      beans  84.03\n",
      "354797   Cordillera Administrative region  2007      beans  83.63\n",
      "354798   Cordillera Administrative region  2007      beans  83.91\n",
      "354799   Cordillera Administrative region  2007      beans  83.76\n",
      "...                                   ...   ...        ...    ...\n",
      "1419175                    Market Average  2024   tomatoes  83.80\n",
      "1419176                    Market Average  2024   tomatoes  83.34\n",
      "1419177                    Market Average  2024   tomatoes  87.72\n",
      "1419178                    Market Average  2024   tomatoes  79.34\n",
      "1419179                    Market Average  2025   tomatoes  78.71\n",
      "\n",
      "[283836 rows x 4 columns]\n"
     ]
    }
   ],
   "source": [
    "file_path = \"../Data/Interim/cleaned_food_prices.csv\"\n",
    "df_range = pd.read_csv(file_path)\n",
    "\n",
    "#dropping columns related to food price index\n",
    "df_nofpi_range = df_range.drop(columns=['o_food_price_index', 'h_food_price_index', 'l_food_price_index', 'c_food_price_index', 'inflation_food_price_index', 'trust_food_price_index'])\n",
    "\n",
    "# Convert 'Date' column to datetime format\n",
    "df_nofpi_range['Date'] = pd.to_datetime(df_nofpi_range['Date'])\n",
    "\n",
    "#dropping columns related to inflation\n",
    "df_noinf_range = df_nofpi_range.drop(columns=['inflation_beans','inflation_cabbage', 'inflation_carrots', 'inflation_eggs', 'inflation_garlic', 'inflation_meat_beef_chops', 'inflation_meat_chicken_whole', 'inflation_meat_pork', 'inflation_onions', 'inflation_potatoes', 'inflation_rice', 'inflation_tomatoes'])\n",
    "\n",
    "#dropping columns related to trust scores\n",
    "df_cleaned_range = df_noinf_range.drop(columns=['trust_beans','trust_cabbage', 'trust_carrots', 'trust_eggs', 'trust_garlic', 'trust_meat_beef_chops', 'trust_meat_chicken_whole', 'trust_meat_pork', 'trust_onions', 'trust_potatoes', 'trust_rice', 'trust_tomatoes'])\n",
    "\n",
    "#dropping uneeded columns\n",
    "df_unneeded_range = df_cleaned_range.drop(columns=['country', 'City', 'lat', 'lon', 'Province', 'Date', 'month'])\n",
    "\n",
    "# Reshaping from wide to long format (including year and month as part of the identifier)\n",
    "df_range = df_unneeded_range.melt(id_vars=['Region', 'year'], var_name='Food_Items', value_name='Price')\n",
    "\n",
    "df_range_filtered = df_range[df_range['Food_Items'].str.startswith('c_')]\n",
    "\n",
    "df_range_filtered.loc[:, 'Food_Items'] = df_range_filtered['Food_Items'].str.replace('c_', '', regex=True)\n",
    "\n",
    "print(df_range_filtered)\n"
   ]
  },
  {
   "cell_type": "code",
   "execution_count": 38,
   "metadata": {},
   "outputs": [
    {
     "data": {
      "text/html": [
       "\n",
       "        <iframe\n",
       "            width=\"100%\"\n",
       "            height=\"650\"\n",
       "            src=\"http://127.0.0.1:8051/\"\n",
       "            frameborder=\"0\"\n",
       "            allowfullscreen\n",
       "            \n",
       "        ></iframe>\n",
       "        "
      ],
      "text/plain": [
       "<IPython.lib.display.IFrame at 0x22edaefc380>"
      ]
     },
     "metadata": {},
     "output_type": "display_data"
    }
   ],
   "source": [
    "# Dash app setup\n",
    "apph = dash.Dash(__name__)\n",
    "\n",
    "apph.layout = html.Div([\n",
    "    html.H3(\"Highest Prices Per Year by Region\"),\n",
    "    \n",
    "    # Dropdown for selecting food items\n",
    "    dcc.Dropdown(\n",
    "        id='food-item-dropdown',\n",
    "        options=[{'label': item, 'value': item} for item in df_range_filtered['Food_Items'].unique()],\n",
    "        value=df_range_filtered['Food_Items'].unique()[0],\n",
    "        placeholder=\"Select a food item\"\n",
    "    ),\n",
    "    \n",
    "    # Graph for displaying highest prices\n",
    "    dcc.Graph(id='highest-price-graph')\n",
    "])\n",
    "\n",
    "# Callback to update the graph based on selected food item\n",
    "@apph.callback(\n",
    "    Output('highest-price-graph', 'figure'),\n",
    "    [Input('food-item-dropdown', 'value')]\n",
    ")\n",
    "def update_graph(selected_food_item):\n",
    "    # Filter data for the selected food item\n",
    "    filtered_dfr = df_range_filtered[df_range_filtered['Food_Items'] == selected_food_item]\n",
    "    \n",
    "    # Find the highest price per year and the corresponding region\n",
    "    highest_prices = (\n",
    "        filtered_dfr.loc[filtered_dfr.groupby('year')['Price'].idxmax()]\n",
    "        .reset_index(drop=True)\n",
    "    )\n",
    "    \n",
    "    # Create the bar chart\n",
    "    fig = px.bar(\n",
    "        highest_prices,\n",
    "        x='year',\n",
    "        y='Price',\n",
    "        color='Region',  # Highlight the region in the bar color\n",
    "        title=f'Highest Prices Per Year for {selected_food_item}',\n",
    "        labels={'Price': 'Price', 'year': 'Year', 'Region': 'Region'}\n",
    "    )\n",
    "    \n",
    "    return fig\n",
    "\n",
    "# Run the app\n",
    "if __name__ == '__main__':\n",
    "    apph.run_server(debug=True, port=8051, mode='inline', name=\"apph\")"
   ]
  },
  {
   "cell_type": "code",
   "execution_count": 37,
   "metadata": {},
   "outputs": [
    {
     "data": {
      "text/html": [
       "\n",
       "        <iframe\n",
       "            width=\"100%\"\n",
       "            height=\"650\"\n",
       "            src=\"http://127.0.0.1:8052/\"\n",
       "            frameborder=\"0\"\n",
       "            allowfullscreen\n",
       "            \n",
       "        ></iframe>\n",
       "        "
      ],
      "text/plain": [
       "<IPython.lib.display.IFrame at 0x22ed982b6e0>"
      ]
     },
     "metadata": {},
     "output_type": "display_data"
    }
   ],
   "source": [
    "# Dash app setup\n",
    "appl = dash.Dash(__name__)\n",
    "\n",
    "appl.layout = html.Div([\n",
    "    html.H3(\"lowest Prices Per Year by Region\"),\n",
    "    \n",
    "    # Dropdown for selecting food items\n",
    "    dcc.Dropdown(\n",
    "        id='food-item-dropdown',\n",
    "        options=[{'label': item, 'value': item} for item in df_range_filtered['Food_Items'].unique()],\n",
    "        value=df_range_filtered['Food_Items'].unique()[0],\n",
    "        placeholder=\"Select a food item\"\n",
    "    ),\n",
    "    \n",
    "    # Graph for displaying lowest prices\n",
    "    dcc.Graph(id='lowest-price-graph')\n",
    "])\n",
    "\n",
    "# Callback to update the graph based on selected food item\n",
    "@appl.callback(\n",
    "    Output('lowest-price-graph', 'figure'),\n",
    "    [Input('food-item-dropdown', 'value')]\n",
    ")\n",
    "def update_graph(selected_food_item):\n",
    "    # Filter data for the selected food item\n",
    "    filtered_dfr = df_range_filtered[df_range_filtered['Food_Items'] == selected_food_item]\n",
    "    \n",
    "    # Find the lowest price per year and the corresponding region\n",
    "    lowest_prices = (\n",
    "        filtered_dfr.loc[filtered_dfr.groupby('year')['Price'].idxmin()]\n",
    "        .reset_index(drop=True)\n",
    "    )\n",
    "    \n",
    "    # Create the bar chart\n",
    "    fig = px.bar(\n",
    "        lowest_prices,\n",
    "        x='year',\n",
    "        y='Price',\n",
    "        color='Region',  # Highlight the region in the bar color\n",
    "        title=f'Lowest Prices Per Year for {selected_food_item}',\n",
    "        labels={'Price': 'Price', 'year': 'Year', 'Region': 'Region'}\n",
    "    )\n",
    "    \n",
    "    return fig\n",
    "\n",
    "# Run the app, changing port to make it have different URL and not interfere with other app\n",
    "if __name__ == '__main__':\n",
    "    appl.run_server(debug=True, port=8052, mode='inline', name=\"appl\")"
   ]
  },
  {
   "cell_type": "code",
   "execution_count": 42,
   "metadata": {},
   "outputs": [
    {
     "data": {
      "text/html": [
       "\n",
       "        <iframe\n",
       "            width=\"100%\"\n",
       "            height=\"650\"\n",
       "            src=\"http://127.0.0.1:8053/\"\n",
       "            frameborder=\"0\"\n",
       "            allowfullscreen\n",
       "            \n",
       "        ></iframe>\n",
       "        "
      ],
      "text/plain": [
       "<IPython.lib.display.IFrame at 0x22edaf1c380>"
      ]
     },
     "metadata": {},
     "output_type": "display_data"
    }
   ],
   "source": [
    "# Dash App Setup\n",
    "apprange = dash.Dash(__name__)\n",
    "\n",
    "apprange.layout = html.Div([\n",
    "    html.H3(\"Price Range of Food Items per Year Across Regions\"),\n",
    "    \n",
    "    # Dropdown for selecting food items\n",
    "    dcc.Dropdown(\n",
    "        id='food-item-dropdown',\n",
    "        options=[{'label': item, 'value': item} for item in df_range_filtered['Food_Items'].unique()],\n",
    "        value=df_range_filtered['Food_Items'].unique()[0],\n",
    "        placeholder=\"Select a food item\"\n",
    "    ),\n",
    "    \n",
    "    # Graph for displaying the price range (min and max) per year\n",
    "    dcc.Graph(id='price-range-graph')\n",
    "])\n",
    "\n",
    "# Callback to update the graph based on selected food item\n",
    "@apprange.callback(\n",
    "    Output('price-range-graph', 'figure'),\n",
    "    [Input('food-item-dropdown', 'value')]\n",
    ")\n",
    "def update_graph(selected_food_item):\n",
    "    # Filter data for the selected food item\n",
    "    filtered_df = df_range_filtered[df_range_filtered['Food_Items'] == selected_food_item]\n",
    "    \n",
    "    # Get the minimum and maximum price per year\n",
    "    price_range = (\n",
    "        filtered_df.groupby('year')['Price']\n",
    "        .agg(['min', 'max'])\n",
    "        .reset_index()\n",
    "    )\n",
    "    \n",
    "    # Create the graph (min and max prices as lines)\n",
    "    fig = px.line(\n",
    "        price_range, \n",
    "        x='year', \n",
    "        y=['min', 'max'], \n",
    "        title=f'Price Range (Min & Max) Per Year for {selected_food_item} Across Regions',\n",
    "        labels={'year': 'Year', 'value': 'Price'},\n",
    "        line_shape='linear'\n",
    "    )\n",
    "    \n",
    "    return fig\n",
    "\n",
    "# Run the app\n",
    "apprange.run_server(debug=True, port=8053, mode='inline', name=\"apprange\")"
   ]
  },
  {
   "cell_type": "markdown",
   "metadata": {},
   "source": [
    "Key Observations:\n",
    "1. Overall Trend - Both the minimum and maximum prices show a general upward trend over the years, indicating an overall increase in the price of every food items. Some even recorded highest price increase on 2020, likely due to the COVID-19 pandemic and its impact on supply chains.\n",
    "2. Price Range - The gap between the minimum and maximum prices for most items widens significantly in 2020 and 2021. This suggests that there were greater variations in prices across regions during these years.\n",
    "\n",
    "Posssible causes:\n",
    "1. COVID-19 Pandemic - The pandemic disrupted supply chains and increased demand for certain food items, which could have led to price volatility.\n",
    "2. Regional Differences - Differences in the impact of the pandemic on regional economies and agricultural production could have contributed to price variations."
   ]
  }
 ],
 "metadata": {
  "kernelspec": {
   "display_name": ".venv",
   "language": "python",
   "name": "python3"
  },
  "language_info": {
   "codemirror_mode": {
    "name": "ipython",
    "version": 3
   },
   "file_extension": ".py",
   "mimetype": "text/x-python",
   "name": "python",
   "nbconvert_exporter": "python",
   "pygments_lexer": "ipython3",
   "version": "3.12.8"
  }
 },
 "nbformat": 4,
 "nbformat_minor": 2
}
